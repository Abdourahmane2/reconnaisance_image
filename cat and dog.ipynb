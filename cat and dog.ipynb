{
 "cells": [
  {
   "cell_type": "code",
   "execution_count": 2,
   "id": "e9c3deb1",
   "metadata": {},
   "outputs": [],
   "source": [
    "import keras\n",
    "from keras.models import Sequential\n",
    "from keras.layers import Dense,Conv2D,MaxPooling2D,Flatten\n",
    "from keras.preprocessing.image import ImageDataGenerator\n",
    "import numpy as np"
   ]
  },
  {
   "cell_type": "code",
   "execution_count": 3,
   "id": "912e345f",
   "metadata": {},
   "outputs": [
    {
     "name": "stdout",
     "output_type": "stream",
     "text": [
      "Found 8000 images belonging to 2 classes.\n",
      "Found 1957 images belonging to 2 classes.\n"
     ]
    }
   ],
   "source": [
    "train_data=ImageDataGenerator(rescale=1./255)\n",
    "test_data=ImageDataGenerator(rescale=1./255)\n",
    "\n",
    "#importer les donnes d'entrainement et de test\n",
    "\n",
    "training_set = train_data.flow_from_directory( r'C:\\Users\\HP\\Desktop\\autre\\Tenserflow\\dataset\\training_set' , \n",
    "                                                 target_size = (128,128), \n",
    "                                                 batch_size = 32, \n",
    "                                                 class_mode = 'binary' ) \n",
    "\n",
    "test_set = test_data.flow_from_directory( r'C:\\Users\\HP\\Desktop\\autre\\Tenserflow\\dataset\\test_set' , \n",
    "                                            target_size = (128,128), \n",
    "                                            batch_size = 32, \n",
    "                                            class_mode = 'binary' )\n",
    "\n"
   ]
  },
  {
   "cell_type": "code",
   "execution_count": 4,
   "id": "1487dc1a",
   "metadata": {},
   "outputs": [
    {
     "name": "stdout",
     "output_type": "stream",
     "text": [
      "WARNING:tensorflow:From c:\\Users\\HP\\AppData\\Local\\Programs\\Python\\Python311\\Lib\\site-packages\\keras\\src\\backend.py:873: The name tf.get_default_graph is deprecated. Please use tf.compat.v1.get_default_graph instead.\n",
      "\n",
      "WARNING:tensorflow:From c:\\Users\\HP\\AppData\\Local\\Programs\\Python\\Python311\\Lib\\site-packages\\keras\\src\\layers\\pooling\\max_pooling2d.py:161: The name tf.nn.max_pool is deprecated. Please use tf.nn.max_pool2d instead.\n",
      "\n"
     ]
    }
   ],
   "source": [
    "#definir le modele\n",
    "\n",
    "model = Sequential()\n",
    "\n",
    "# first layer \n",
    "model.add(Conv2D(32,(3,3),input_shape=(128,128,3),activation='relu')) #couche convulutive\n",
    "model.add(MaxPooling2D(pool_size=(2,2))) #couche max pooling\n",
    "\n",
    "# second layer\n",
    "model.add(Conv2D(64,(3,3),activation='relu')) #couche convlulutive\n",
    "model.add(MaxPooling2D(pool_size=(2,2))) #couche max pooling\n",
    "\n",
    "# flattern layer\n",
    "model.add(Flatten()) #transforme la derniercouche en une vecteur1d\n",
    "\n",
    "# Dense layer\n",
    "model.add(Dense(256,activation='relu')) #couche fully coonected\n",
    "model.add(Dense(1,activation='sigmoid')) #couche de sortie qui est binaire"
   ]
  },
  {
   "cell_type": "code",
   "execution_count": 5,
   "id": "053ca4ab",
   "metadata": {},
   "outputs": [
    {
     "name": "stdout",
     "output_type": "stream",
     "text": [
      "WARNING:tensorflow:From c:\\Users\\HP\\AppData\\Local\\Programs\\Python\\Python311\\Lib\\site-packages\\keras\\src\\optimizers\\__init__.py:309: The name tf.train.Optimizer is deprecated. Please use tf.compat.v1.train.Optimizer instead.\n",
      "\n"
     ]
    }
   ],
   "source": [
    "#compiler le modele\n",
    "model.compile(optimizer='adam', loss='binary_crossentropy', metrics=['accuracy'])\n"
   ]
  },
  {
   "cell_type": "code",
   "execution_count": 7,
   "id": "fb063e24",
   "metadata": {},
   "outputs": [
    {
     "name": "stdout",
     "output_type": "stream",
     "text": [
      "Epoch 1/10\n",
      "WARNING:tensorflow:From c:\\Users\\HP\\AppData\\Local\\Programs\\Python\\Python311\\Lib\\site-packages\\keras\\src\\utils\\tf_utils.py:492: The name tf.ragged.RaggedTensorValue is deprecated. Please use tf.compat.v1.ragged.RaggedTensorValue instead.\n",
      "\n",
      "WARNING:tensorflow:From c:\\Users\\HP\\AppData\\Local\\Programs\\Python\\Python311\\Lib\\site-packages\\keras\\src\\engine\\base_layer_utils.py:384: The name tf.executing_eagerly_outside_functions is deprecated. Please use tf.compat.v1.executing_eagerly_outside_functions instead.\n",
      "\n",
      "250/250 [==============================] - 149s 594ms/step - loss: 0.6871 - accuracy: 0.5950\n",
      "Epoch 2/10\n",
      "250/250 [==============================] - 71s 283ms/step - loss: 0.6133 - accuracy: 0.6708\n",
      "Epoch 3/10\n",
      "250/250 [==============================] - 71s 284ms/step - loss: 0.5118 - accuracy: 0.7491\n",
      "Epoch 4/10\n",
      "250/250 [==============================] - 71s 282ms/step - loss: 0.3528 - accuracy: 0.8426\n",
      "Epoch 5/10\n",
      "250/250 [==============================] - 71s 284ms/step - loss: 0.1807 - accuracy: 0.9280\n",
      "Epoch 6/10\n",
      "250/250 [==============================] - 71s 283ms/step - loss: 0.0754 - accuracy: 0.9743\n",
      "Epoch 7/10\n",
      "250/250 [==============================] - 71s 284ms/step - loss: 0.0261 - accuracy: 0.9935\n",
      "Epoch 8/10\n",
      "250/250 [==============================] - 71s 284ms/step - loss: 0.0099 - accuracy: 0.9983\n",
      "Epoch 9/10\n",
      "250/250 [==============================] - 71s 284ms/step - loss: 0.0160 - accuracy: 0.9964\n",
      "Epoch 10/10\n",
      "250/250 [==============================] - 71s 284ms/step - loss: 0.0131 - accuracy: 0.9966\n"
     ]
    }
   ],
   "source": [
    "#entrainer le model\n",
    "\n",
    "model_histiry = model.fit(training_set, epochs=10)"
   ]
  },
  {
   "cell_type": "code",
   "execution_count": 14,
   "id": "c45b0429",
   "metadata": {},
   "outputs": [
    {
     "name": "stdout",
     "output_type": "stream",
     "text": [
      "1/1 [==============================] - 0s 12ms/step\n",
      "cat\n"
     ]
    }
   ],
   "source": [
    "import numpy as np\n",
    "from keras.preprocessing import image\n",
    "test_image = image.load_img(r'C:\\Users\\HP\\Desktop\\chat1.jpeg', target_size = (128,128))\n",
    "test_image = image.img_to_array(test_image)\n",
    "test_image = np.expand_dims(test_image, axis = 0)\n",
    "result = model.predict(test_image)\n",
    "if result[0][0] == 0 :\n",
    "    print('cat')\n",
    "else:\n",
    "    print(\"dog\")"
   ]
  },
  {
   "cell_type": "code",
   "execution_count": 16,
   "id": "11a1ac23",
   "metadata": {},
   "outputs": [
    {
     "name": "stdout",
     "output_type": "stream",
     "text": [
      "INFO:tensorflow:Assets written to: model_chein_chat\\assets\n"
     ]
    },
    {
     "name": "stderr",
     "output_type": "stream",
     "text": [
      "INFO:tensorflow:Assets written to: model_chein_chat\\assets\n"
     ]
    }
   ],
   "source": [
    "model.save('model_chein_chat')"
   ]
  },
  {
   "cell_type": "code",
   "execution_count": null,
   "id": "6811514a",
   "metadata": {},
   "outputs": [],
   "source": []
  }
 ],
 "metadata": {
  "kernelspec": {
   "display_name": "Python 3 (ipykernel)",
   "language": "python",
   "name": "python3"
  },
  "language_info": {
   "codemirror_mode": {
    "name": "ipython",
    "version": 3
   },
   "file_extension": ".py",
   "mimetype": "text/x-python",
   "name": "python",
   "nbconvert_exporter": "python",
   "pygments_lexer": "ipython3",
   "version": "3.11.6"
  }
 },
 "nbformat": 4,
 "nbformat_minor": 5
}
