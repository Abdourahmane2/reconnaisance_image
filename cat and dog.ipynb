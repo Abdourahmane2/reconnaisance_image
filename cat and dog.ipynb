{
 "cells": [
  {
   "cell_type": "code",
   "execution_count": 1,
   "id": "e9c3deb1",
   "metadata": {},
   "outputs": [],
   "source": [
    "import keras\n",
    "from keras.models import Sequential\n",
    "from keras.layers import Dense,Conv2D,MaxPooling2D,Flatten\n",
    "from keras.preprocessing.image import ImageDataGenerator\n",
    "import numpy as np"
   ]
  },
  {
   "cell_type": "code",
   "execution_count": 2,
   "id": "912e345f",
   "metadata": {},
   "outputs": [
    {
     "name": "stdout",
     "output_type": "stream",
     "text": [
      "Found 8000 images belonging to 2 classes.\n",
      "Found 1957 images belonging to 2 classes.\n"
     ]
    }
   ],
   "source": [
    "train_data=ImageDataGenerator(rescale=1./255)\n",
    "test_data=ImageDataGenerator(rescale=1./255)\n",
    "\n",
    "#importer les donnes d'entrainement et de test\n",
    "\n",
    "training_set = train_data.flow_from_directory( r'C:\\Users\\HP\\Desktop\\autre\\Tenserflow\\dataset\\training_set' , \n",
    "                                                 target_size = (128,128), \n",
    "                                                 batch_size = 32, \n",
    "                                                 class_mode = 'binary' ) \n",
    "\n",
    "test_set = test_data.flow_from_directory( r'C:\\Users\\HP\\Desktop\\autre\\Tenserflow\\dataset\\test_set' , \n",
    "                                            target_size = (128,128), \n",
    "                                            batch_size = 32, \n",
    "                                            class_mode = 'binary' )\n",
    "\n"
   ]
  },
  {
   "cell_type": "code",
   "execution_count": 3,
   "id": "1487dc1a",
   "metadata": {},
   "outputs": [],
   "source": [
    "#definir le modele\n",
    "\n",
    "model = Sequential()\n",
    "\n",
    "# first layer \n",
    "model.add(Conv2D(32,(3,3),input_shape=(128,128,3),activation='relu')) #couche convulutive\n",
    "model.add(MaxPooling2D(pool_size=(2,2))) #couche max pooling\n",
    "\n",
    "# second layer\n",
    "model.add(Conv2D(64,(3,3),activation='relu')) #couche convlulutive\n",
    "model.add(MaxPooling2D(pool_size=(2,2))) #couche max pooling\n",
    "\n",
    "# flattern layer\n",
    "model.add(Flatten()) #transforme la derniercouche en une vecteur1d\n",
    "\n",
    "# Dense layer\n",
    "model.add(Dense(256,activation='relu')) #couche fully coonected\n",
    "model.add(Dense(1,activation='sigmoid')) #couche de sortie qui est binaire"
   ]
  },
  {
   "cell_type": "code",
   "execution_count": 4,
   "id": "053ca4ab",
   "metadata": {},
   "outputs": [],
   "source": [
    "#compiler le modele\n",
    "model.compile(optimizer='adam', loss='binary_crossentropy', metrics=['accuracy'])\n"
   ]
  },
  {
   "cell_type": "code",
   "execution_count": 5,
   "id": "fb063e24",
   "metadata": {},
   "outputs": [
    {
     "name": "stdout",
     "output_type": "stream",
     "text": [
      "Epoch 1/10\n",
      "250/250 [==============================] - 212s 843ms/step - loss: 0.7170 - accuracy: 0.5738\n",
      "Epoch 2/10\n",
      "250/250 [==============================] - 138s 554ms/step - loss: 0.5775 - accuracy: 0.6979\n",
      "Epoch 3/10\n",
      "250/250 [==============================] - 135s 539ms/step - loss: 0.4589 - accuracy: 0.7834\n",
      "Epoch 4/10\n",
      "250/250 [==============================] - 146s 584ms/step - loss: 0.3180 - accuracy: 0.8625\n",
      "Epoch 5/10\n",
      "250/250 [==============================] - 154s 616ms/step - loss: 0.1603 - accuracy: 0.9392\n",
      "Epoch 6/10\n",
      "250/250 [==============================] - 161s 641ms/step - loss: 0.0670 - accuracy: 0.9776\n",
      "Epoch 7/10\n",
      "250/250 [==============================] - 131s 522ms/step - loss: 0.0304 - accuracy: 0.9925\n",
      "Epoch 8/10\n",
      "250/250 [==============================] - 127s 505ms/step - loss: 0.0077 - accuracy: 0.9990\n",
      "Epoch 9/10\n",
      "250/250 [==============================] - 133s 530ms/step - loss: 0.0024 - accuracy: 1.0000\n",
      "Epoch 10/10\n",
      "250/250 [==============================] - 171s 682ms/step - loss: 5.8615e-04 - accuracy: 1.0000\n"
     ]
    }
   ],
   "source": [
    "#entrainer le model\n",
    "\n",
    "model_histiry = model.fit(training_set, epochs=10)"
   ]
  },
  {
   "cell_type": "code",
   "execution_count": 13,
   "id": "c45b0429",
   "metadata": {},
   "outputs": [
    {
     "name": "stdout",
     "output_type": "stream",
     "text": [
      "1/1 [==============================] - 0s 30ms/step\n",
      "[[0.]]\n",
      "cat\n"
     ]
    }
   ],
   "source": [
    "import numpy as np\n",
    "from keras.preprocessing import image\n",
    "test_image = image.load_img(r'C:\\Users\\HP\\Desktop\\autre\\Tenserflow\\chat.jpg', target_size = (128,128))\n",
    "test_image = image.img_to_array(test_image)\n",
    "test_image = np.expand_dims(test_image, axis = 0)\n",
    "\n",
    "result = model.predict(test_image)\n",
    "print(result)\n",
    "if result[0][0] == 0 :\n",
    "    print('cat')\n",
    "else:\n",
    "    print(\"dog\")"
   ]
  },
  {
   "cell_type": "code",
   "execution_count": 11,
   "id": "11a1ac23",
   "metadata": {},
   "outputs": [
    {
     "name": "stdout",
     "output_type": "stream",
     "text": [
      "INFO:tensorflow:Assets written to: model_chein_chat\\assets\n"
     ]
    },
    {
     "name": "stderr",
     "output_type": "stream",
     "text": [
      "INFO:tensorflow:Assets written to: model_chein_chat\\assets\n"
     ]
    }
   ],
   "source": [
    "model.save('model_chein_chat')"
   ]
  },
  {
   "cell_type": "code",
   "execution_count": 8,
   "id": "6811514a",
   "metadata": {},
   "outputs": [
    {
     "name": "stdout",
     "output_type": "stream",
     "text": [
      "1/1 [==============================] - 0s 75ms/step\n",
      "[[0.]]\n",
      "chat\n",
      "[[0.]]\n",
      "bonjour\n",
      "(1, 128, 128, 3)\n"
     ]
    }
   ],
   "source": [
    "test_image = image.load_img(r'C:\\Users\\HP\\Desktop\\autre\\Tenserflow\\chat.jpg', target_size = (128,128))\n",
    "test_image = image.img_to_array(test_image)\n",
    "test_image = np.expand_dims(test_image, axis = 0)\n",
    "result = model.predict(test_image)\n",
    "print(result)\n",
    "if result[0][0] == 0 :\n",
    "            predictions = \"chat\"\n",
    "else:\n",
    "            predictions = \"chien\"\n",
    "\n",
    "print(predictions)  \n",
    "print(result)\n",
    "print(\"bonjour\")   \n",
    "print(test_image.shape)   \n",
    "   "
   ]
  }
 ],
 "metadata": {
  "kernelspec": {
   "display_name": "Python 3 (ipykernel)",
   "language": "python",
   "name": "python3"
  },
  "language_info": {
   "codemirror_mode": {
    "name": "ipython",
    "version": 3
   },
   "file_extension": ".py",
   "mimetype": "text/x-python",
   "name": "python",
   "nbconvert_exporter": "python",
   "pygments_lexer": "ipython3",
   "version": "3.11.6"
  }
 },
 "nbformat": 4,
 "nbformat_minor": 5
}
